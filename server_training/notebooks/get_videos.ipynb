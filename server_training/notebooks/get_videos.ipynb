{
 "cells": [
  {
   "cell_type": "code",
   "execution_count": 1,
   "id": "8254d983-bb75-457e-b486-ba9183607be2",
   "metadata": {
    "tags": []
   },
   "outputs": [],
   "source": [
    "import requests\n",
    "\n",
    "channel_id = #\n",
    "api_key = #\n",
    "url_video_base = \"https://www.youtube.com/watch?v=\""
   ]
  },
  {
   "cell_type": "code",
   "execution_count": 2,
   "id": "3858d3c2-958d-43fa-914d-4eb5b73f1d64",
   "metadata": {
    "tags": []
   },
   "outputs": [],
   "source": [
    "url_channel = f\"https://www.googleapis.com/youtube/v3/channels\"\n",
    "\n",
    "channel_response = requests.get(url_channel, params={\"id\": channel_id, \"key\": api_key, \"part\": \"snippet,contentDetails\"})\n",
    "channel_response_body = channel_response.json()\n",
    "playlist_id = channel_response_body['items'][0]['contentDetails']['relatedPlaylists']['uploads']"
   ]
  },
  {
   "cell_type": "code",
   "execution_count": 3,
   "id": "b9cd3cfb-c394-441e-a895-4ef1530689d8",
   "metadata": {
    "tags": []
   },
   "outputs": [],
   "source": [
    "url_playlist = f\"https://www.googleapis.com/youtube/v3/playlistItems\"\n",
    "\n",
    "playlist_response = requests.get(url_playlist, params={\n",
    "    \"playlistId\": playlist_id, \n",
    "    \"key\": api_key, \n",
    "    \"part\": \"snippet,id,contentDetails\", \n",
    "    \"maxResults\": 50})"
   ]
  },
  {
   "cell_type": "code",
   "execution_count": 4,
   "id": "5637a53f-13fe-4a75-9f65-67297cf9836d",
   "metadata": {
    "tags": []
   },
   "outputs": [],
   "source": [
    "video_url_list = {}"
   ]
  },
  {
   "cell_type": "code",
   "execution_count": 5,
   "id": "5ad5766f-8351-4a2b-9aa2-ebc526681991",
   "metadata": {
    "tags": []
   },
   "outputs": [],
   "source": [
    "while True:\n",
    "    playlist_response_body = playlist_response.json()\n",
    "\n",
    "    for video_item in playlist_response_body['items']:\n",
    "        video_title = video_item['snippet']['title']\n",
    "        video_id = video_item['snippet']['resourceId']['videoId']\n",
    "        url_video = url_video_base+video_id\n",
    "        video_url_list[video_title] = url_video\n",
    "        \n",
    "    if 'nextPageToken' in playlist_response_body:\n",
    "        playlist_response = requests.get(url_playlist, params={\n",
    "            \"playlistId\": playlist_id, \n",
    "            \"key\": api_key, \n",
    "            \"part\": \"snippet,id,contentDetails\", \n",
    "            \"maxResults\": 50,\n",
    "            \"pageToken\": playlist_response_body['nextPageToken']})\n",
    "    else:\n",
    "        break"
   ]
  },
  {
   "cell_type": "code",
   "execution_count": 23,
   "id": "429b4947-1012-49fe-8257-d24a6fb952e0",
   "metadata": {
    "tags": []
   },
   "outputs": [],
   "source": [
    "import pandas as pd\n",
    "import numpy as np"
   ]
  },
  {
   "cell_type": "code",
   "execution_count": 20,
   "id": "5dd13be0-6434-4dbc-b0ee-f1c4c4da8266",
   "metadata": {
    "tags": []
   },
   "outputs": [],
   "source": [
    "video_url_list = list(video_url_list.values())\n",
    "video_len = len(video_url_list)"
   ]
  },
  {
   "cell_type": "code",
   "execution_count": 30,
   "id": "d2743634-645c-49d4-a1c7-536415f5c516",
   "metadata": {
    "tags": []
   },
   "outputs": [],
   "source": [
    "datas = np.array([range(600, 600+video_len), video_url_list, [1]*video_len, [0]*video_len, [0]*video_len, [0]*video_len, [0]*video_len])\n",
    "datas = datas.T"
   ]
  },
  {
   "cell_type": "code",
   "execution_count": 33,
   "id": "8ea231af-37b7-4a3e-8318-b95b6b92e828",
   "metadata": {
    "tags": []
   },
   "outputs": [],
   "source": [
    "df = pd.DataFrame(datas, columns=['id', 'url', 'train/val', 'minY', 'maxY', 'minX', 'maxX'])"
   ]
  },
  {
   "cell_type": "code",
   "execution_count": 35,
   "id": "4e8fcecb-806f-4cb3-9ae2-f78f3ca3888e",
   "metadata": {
    "tags": []
   },
   "outputs": [],
   "source": [
    "df.to_csv(\"./data/PianoYT/yt_kassia.csv\", index=False, header=False)"
   ]
  }
 ],
 "metadata": {
  "kernelspec": {
   "display_name": "vmt",
   "language": "python",
   "name": "vmt"
  },
  "language_info": {
   "codemirror_mode": {
    "name": "ipython",
    "version": 3
   },
   "file_extension": ".py",
   "mimetype": "text/x-python",
   "name": "python",
   "nbconvert_exporter": "python",
   "pygments_lexer": "ipython3",
   "version": "3.8.5"
  }
 },
 "nbformat": 4,
 "nbformat_minor": 5
}
